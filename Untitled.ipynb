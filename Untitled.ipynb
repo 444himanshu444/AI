{
 "cells": [
  {
   "cell_type": "code",
   "execution_count": 3,
   "metadata": {},
   "outputs": [
    {
     "data": {
      "text/plain": [
       "[[' ', 'A', 'B', 'C', 'D', 'E', 'F', 'G', 'H', 'I', 'J', 'K'],\n",
       " ['A', 0, 2, 0, 0, 0, 0, 0, 0, 0, 0, 3],\n",
       " ['B', 2, 0, 4, 0, 0, 0, 0, 0, 0, 0, 0],\n",
       " ['C', 0, 4, 0, 2, 0, 0, 0, 0, 0, 5, 0],\n",
       " ['D', 0, 0, 2, 0, 8, 0, 0, 0, 0, 4, 0],\n",
       " ['E', 0, 0, 0, 8, 0, 9, 0, 0, 0, 0, 0],\n",
       " ['F', 0, 0, 0, 0, 9, 0, 1, 0, 0, 0, 0],\n",
       " ['G', 0, 0, 0, 0, 0, 1, 0, 1, 0, 0, 0],\n",
       " ['H', 0, 0, 0, 0, 0, 0, 1, 0, 2, 0, 0],\n",
       " ['I', 0, 0, 0, 0, 0, 0, 0, 2, 0, 4, 1],\n",
       " ['J', 0, 0, 5, 4, 0, 0, 0, 0, 4, 0, 0],\n",
       " ['K', 3, 0, 0, 0, 0, 0, 0, 0, 1, 0, 0]]"
      ]
     },
     "execution_count": 3,
     "metadata": {},
     "output_type": "execute_result"
    }
   ],
   "source": [
    "Matrix = [[' ','A','B','C','D','E','F','G','H','I','J','K'],\n",
    "          ['A', 0, 2, 0, 0, 0, 0, 0, 0, 0, 0, 3], \n",
    "          ['B', 2, 0, 4, 0, 0, 0, 0, 0, 0, 0, 0], \n",
    "          ['C', 0, 4, 0, 2, 0, 0, 0, 0, 0, 5, 0], \n",
    "          ['D', 0, 0, 2, 0, 8, 0, 0, 0, 0, 4, 0],\n",
    "          ['E', 0, 0, 0, 8, 0, 9, 0, 0, 0, 0, 0], \n",
    "          ['F', 0, 0, 0, 0, 9, 0, 1, 0, 0, 0, 0],\n",
    "          ['G', 0, 0, 0, 0, 0, 1, 0, 1, 0, 0, 0], \n",
    "          ['H', 0, 0, 0, 0, 0, 0, 1, 0, 2, 0, 0],\n",
    "          ['I', 0, 0, 0, 0, 0, 0, 0, 2, 0, 4, 1], \n",
    "          ['J', 0, 0, 5, 4, 0, 0, 0, 0, 4, 0, 0],\n",
    "          ['K', 3, 0, 0, 0, 0, 0, 0, 0, 1, 0, 0]]\n",
    "\n",
    "Matrix"
   ]
  },
  {
   "cell_type": "code",
   "execution_count": 6,
   "metadata": {},
   "outputs": [
    {
     "data": {
      "text/plain": [
       "0"
      ]
     },
     "execution_count": 6,
     "metadata": {},
     "output_type": "execute_result"
    }
   ],
   "source": [
    "Matrix[1][1]"
   ]
  },
  {
   "cell_type": "code",
   "execution_count": null,
   "metadata": {},
   "outputs": [],
   "source": []
  }
 ],
 "metadata": {
  "kernelspec": {
   "display_name": "Python 3",
   "language": "python",
   "name": "python3"
  },
  "language_info": {
   "codemirror_mode": {
    "name": "ipython",
    "version": 3
   },
   "file_extension": ".py",
   "mimetype": "text/x-python",
   "name": "python",
   "nbconvert_exporter": "python",
   "pygments_lexer": "ipython3",
   "version": "3.7.1"
  }
 },
 "nbformat": 4,
 "nbformat_minor": 2
}
